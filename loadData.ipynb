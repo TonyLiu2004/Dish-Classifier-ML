{
 "cells": [
  {
   "cell_type": "markdown",
   "metadata": {},
   "source": [
    "Copies <num_files> number of images of each dish type from moreData into data"
   ]
  },
  {
   "cell_type": "code",
   "execution_count": 1,
   "metadata": {},
   "outputs": [],
   "source": [
    "import os\n",
    "import random\n",
    "import shutil\n",
    "\n",
    "\n",
    "source_dir = \"moreData\"\n",
    "target_dir = \"data\"\n",
    "\n",
    "num_files = 40"
   ]
  },
  {
   "cell_type": "code",
   "execution_count": 2,
   "metadata": {},
   "outputs": [],
   "source": [
    "for folder in os.listdir(source_dir):\n",
    "    folder_path = os.path.join(source_dir, folder)\n",
    "    # Check if it is a directory\n",
    "    if os.path.isdir(folder_path):\n",
    "        target_folder_path = os.path.join(target_dir, folder) #target directory to add images\n",
    "        if os.path.exists(target_folder_path): #if folder already exists, remove all files in it\n",
    "            for file in os.listdir(target_folder_path):\n",
    "                os.remove(os.path.join(target_folder_path, file))\n",
    "        else:\n",
    "            os.makedirs(target_folder_path) \n",
    "       \n",
    "        source_files = os.listdir(folder_path)\n",
    "\n",
    "         # Randomly select <num_files> files\n",
    "        selected_files = random.sample(source_files, min(num_files, len(source_files))) \n",
    "        for file in selected_files:\n",
    "            source_file = os.path.join(folder_path, file)\n",
    "            target_file = os.path.join(target_folder_path, file)\n",
    "            shutil.copy(source_file, target_file)"
   ]
  }
 ],
 "metadata": {
  "kernelspec": {
   "display_name": "imageclassification",
   "language": "python",
   "name": "python3"
  },
  "language_info": {
   "codemirror_mode": {
    "name": "ipython",
    "version": 3
   },
   "file_extension": ".py",
   "mimetype": "text/x-python",
   "name": "python",
   "nbconvert_exporter": "python",
   "pygments_lexer": "ipython3",
   "version": "3.12.5"
  }
 },
 "nbformat": 4,
 "nbformat_minor": 2
}
