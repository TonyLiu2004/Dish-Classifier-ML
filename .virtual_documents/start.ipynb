


!pip install tensorflow opencv-python matplotlib


!pip list


import tensorflow as tf
import os


gpus = tf.config.experimental.list_physical_devices('GPU')
for gpu in gpus:
    tf.config.experimental.set_memory_growth(gpu, True)

print(tf.config.list_physical_devices('GPU'))
print(tf.reduce_sum(tf.random.normal([1000, 1000])))



import tensorflow as tf
print(tf.__version__)
print(tf.config.list_physical_devices('GPU'))



